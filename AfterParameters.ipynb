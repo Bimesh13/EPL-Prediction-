{
 "cells": [
  {
   "cell_type": "code",
   "execution_count": 1,
   "metadata": {},
   "outputs": [],
   "source": [
    "import numpy as np\n",
    "import pandas as pd\n",
    "from sklearn.metrics import confusion_matrix\n",
    "from sklearn.metrics import classification_report \n",
    "from sklearn.metrics import accuracy_score"
   ]
  },
  {
   "cell_type": "code",
   "execution_count": 2,
   "metadata": {},
   "outputs": [
    {
     "data": {
      "text/plain": [
       "6840"
      ]
     },
     "execution_count": 2,
     "metadata": {},
     "output_type": "execute_result"
    }
   ],
   "source": [
    "df = pd.read_csv('FootballDataset.csv')\n",
    "df.shape[0]"
   ]
  },
  {
   "cell_type": "code",
   "execution_count": 3,
   "metadata": {},
   "outputs": [
    {
     "data": {
      "text/plain": [
       "Index(['Div', 'Date', 'HomeTeam', 'AwayTeam', 'FTHG', 'FTAG', 'FTR', 'HTHG',\n",
       "       'HTAG', 'HTR', 'Attendance', 'Referee', 'HS', 'AS', 'HST', 'AST', 'HHW',\n",
       "       'AHW', 'HC', 'AC', 'HF', 'AF', 'HO', 'AO', 'HY', 'AY', 'HR', 'AR',\n",
       "       'Unnamed: 28', 'Unnamed: 29', 'Unnamed: 30', 'Unnamed: 31',\n",
       "       'Unnamed: 32', 'Unnamed: 33', 'Unnamed: 34', 'Unnamed: 35',\n",
       "       'Unnamed: 36', 'Unnamed: 37', 'Unnamed: 38', 'Unnamed: 39',\n",
       "       'Unnamed: 40', 'Unnamed: 41', 'Unnamed: 42', 'Unnamed: 43',\n",
       "       'Unnamed: 44', 'Unnamed: 45', 'Unnamed: 46', 'Unnamed: 47',\n",
       "       'Unnamed: 48', 'Unnamed: 49', 'Unnamed: 50', 'Unnamed: 51',\n",
       "       'Unnamed: 52', 'Unnamed: 53', 'Unnamed: 54', 'Unnamed: 55',\n",
       "       'Unnamed: 56', 'Unnamed: 57', 'Unnamed: 58', 'Unnamed: 59',\n",
       "       'Unnamed: 60', 'Unnamed: 61', 'Unnamed: 62', 'Unnamed: 63',\n",
       "       'Unnamed: 64', 'Unnamed: 65', 'Unnamed: 66', 'Unnamed: 67',\n",
       "       'Unnamed: 68', 'Unnamed: 69', 'Unnamed: 70'],\n",
       "      dtype='object')"
      ]
     },
     "execution_count": 3,
     "metadata": {},
     "output_type": "execute_result"
    }
   ],
   "source": [
    "df.columns"
   ]
  },
  {
   "cell_type": "code",
   "execution_count": 4,
   "metadata": {},
   "outputs": [
    {
     "data": {
      "text/html": [
       "<div>\n",
       "<style scoped>\n",
       "    .dataframe tbody tr th:only-of-type {\n",
       "        vertical-align: middle;\n",
       "    }\n",
       "\n",
       "    .dataframe tbody tr th {\n",
       "        vertical-align: top;\n",
       "    }\n",
       "\n",
       "    .dataframe thead th {\n",
       "        text-align: right;\n",
       "    }\n",
       "</style>\n",
       "<table border=\"1\" class=\"dataframe\">\n",
       "  <thead>\n",
       "    <tr style=\"text-align: right;\">\n",
       "      <th></th>\n",
       "      <th>FTR</th>\n",
       "      <th>HS</th>\n",
       "      <th>AS</th>\n",
       "      <th>HST</th>\n",
       "      <th>AST</th>\n",
       "      <th>HC</th>\n",
       "      <th>AC</th>\n",
       "      <th>HF</th>\n",
       "      <th>AF</th>\n",
       "    </tr>\n",
       "  </thead>\n",
       "  <tbody>\n",
       "    <tr>\n",
       "      <th>0</th>\n",
       "      <td>H</td>\n",
       "      <td>17</td>\n",
       "      <td>8</td>\n",
       "      <td>14</td>\n",
       "      <td>4</td>\n",
       "      <td>6</td>\n",
       "      <td>6</td>\n",
       "      <td>13</td>\n",
       "      <td>12</td>\n",
       "    </tr>\n",
       "    <tr>\n",
       "      <th>1</th>\n",
       "      <td>H</td>\n",
       "      <td>17</td>\n",
       "      <td>12</td>\n",
       "      <td>10</td>\n",
       "      <td>5</td>\n",
       "      <td>7</td>\n",
       "      <td>7</td>\n",
       "      <td>19</td>\n",
       "      <td>14</td>\n",
       "    </tr>\n",
       "    <tr>\n",
       "      <th>2</th>\n",
       "      <td>A</td>\n",
       "      <td>6</td>\n",
       "      <td>16</td>\n",
       "      <td>3</td>\n",
       "      <td>9</td>\n",
       "      <td>8</td>\n",
       "      <td>4</td>\n",
       "      <td>15</td>\n",
       "      <td>21</td>\n",
       "    </tr>\n",
       "    <tr>\n",
       "      <th>3</th>\n",
       "      <td>D</td>\n",
       "      <td>6</td>\n",
       "      <td>13</td>\n",
       "      <td>4</td>\n",
       "      <td>6</td>\n",
       "      <td>5</td>\n",
       "      <td>8</td>\n",
       "      <td>11</td>\n",
       "      <td>13</td>\n",
       "    </tr>\n",
       "    <tr>\n",
       "      <th>4</th>\n",
       "      <td>H</td>\n",
       "      <td>17</td>\n",
       "      <td>12</td>\n",
       "      <td>8</td>\n",
       "      <td>6</td>\n",
       "      <td>6</td>\n",
       "      <td>4</td>\n",
       "      <td>21</td>\n",
       "      <td>20</td>\n",
       "    </tr>\n",
       "  </tbody>\n",
       "</table>\n",
       "</div>"
      ],
      "text/plain": [
       "  FTR  HS  AS  HST  AST  HC  AC  HF  AF\n",
       "0   H  17   8   14    4   6   6  13  12\n",
       "1   H  17  12   10    5   7   7  19  14\n",
       "2   A   6  16    3    9   8   4  15  21\n",
       "3   D   6  13    4    6   5   8  11  13\n",
       "4   H  17  12    8    6   6   4  21  20"
      ]
     },
     "metadata": {},
     "output_type": "display_data"
    }
   ],
   "source": [
    "df.drop(['HomeTeam', 'AwayTeam', 'Div', 'Date', 'FTHG', 'FTAG', 'HTHG',\n",
    "         'HTAG', 'HTR', 'Attendance', 'Referee', 'HHW', 'AHW','HO', 'AO',\n",
    "         'HY', 'AY', 'HR', 'AR', 'Unnamed: 28', 'Unnamed: 29', \n",
    "         'Unnamed: 30','Unnamed: 31','Unnamed: 32', 'Unnamed: 33', \n",
    "         'Unnamed: 34', 'Unnamed: 35','Unnamed: 36', 'Unnamed: 37', \n",
    "         'Unnamed: 38', 'Unnamed: 39', 'Unnamed: 40','Unnamed: 41', \n",
    "         'Unnamed: 42', 'Unnamed: 43','Unnamed: 44', 'Unnamed: 45',\n",
    "         'Unnamed: 46', 'Unnamed: 47', 'Unnamed: 48', 'Unnamed: 49', \n",
    "         'Unnamed: 50', 'Unnamed: 51', 'Unnamed: 52', 'Unnamed: 53', \n",
    "         'Unnamed: 54', 'Unnamed: 55', 'Unnamed: 56', 'Unnamed: 57', \n",
    "         'Unnamed: 58', 'Unnamed: 59', 'Unnamed: 60', 'Unnamed: 61', \n",
    "         'Unnamed: 62', 'Unnamed: 63', 'Unnamed: 64', 'Unnamed: 65', \n",
    "         'Unnamed: 66', 'Unnamed: 67', 'Unnamed: 68', 'Unnamed: 69',\n",
    "         'Unnamed: 70'],1, inplace=True)\n",
    "display(df.head())"
   ]
  },
  {
   "cell_type": "code",
   "execution_count": 5,
   "metadata": {},
   "outputs": [],
   "source": [
    "def transformResult(row):\n",
    "    '''Converts results (H,A or D) into numeric values'''\n",
    "    if(row.FTR == 'H'):\n",
    "        return 1\n",
    "    elif(row.FTR == 'A'):\n",
    "        return -1\n",
    "    else:\n",
    "        return 0"
   ]
  },
  {
   "cell_type": "code",
   "execution_count": 6,
   "metadata": {},
   "outputs": [
    {
     "data": {
      "text/html": [
       "<div>\n",
       "<style scoped>\n",
       "    .dataframe tbody tr th:only-of-type {\n",
       "        vertical-align: middle;\n",
       "    }\n",
       "\n",
       "    .dataframe tbody tr th {\n",
       "        vertical-align: top;\n",
       "    }\n",
       "\n",
       "    .dataframe thead th {\n",
       "        text-align: right;\n",
       "    }\n",
       "</style>\n",
       "<table border=\"1\" class=\"dataframe\">\n",
       "  <thead>\n",
       "    <tr style=\"text-align: right;\">\n",
       "      <th></th>\n",
       "      <th>FTR</th>\n",
       "      <th>HS</th>\n",
       "      <th>AS</th>\n",
       "      <th>HST</th>\n",
       "      <th>AST</th>\n",
       "      <th>HC</th>\n",
       "      <th>AC</th>\n",
       "      <th>HF</th>\n",
       "      <th>AF</th>\n",
       "    </tr>\n",
       "  </thead>\n",
       "  <tbody>\n",
       "    <tr>\n",
       "      <th>0</th>\n",
       "      <td>1</td>\n",
       "      <td>17</td>\n",
       "      <td>8</td>\n",
       "      <td>14</td>\n",
       "      <td>4</td>\n",
       "      <td>6</td>\n",
       "      <td>6</td>\n",
       "      <td>13</td>\n",
       "      <td>12</td>\n",
       "    </tr>\n",
       "    <tr>\n",
       "      <th>1</th>\n",
       "      <td>1</td>\n",
       "      <td>17</td>\n",
       "      <td>12</td>\n",
       "      <td>10</td>\n",
       "      <td>5</td>\n",
       "      <td>7</td>\n",
       "      <td>7</td>\n",
       "      <td>19</td>\n",
       "      <td>14</td>\n",
       "    </tr>\n",
       "    <tr>\n",
       "      <th>2</th>\n",
       "      <td>-1</td>\n",
       "      <td>6</td>\n",
       "      <td>16</td>\n",
       "      <td>3</td>\n",
       "      <td>9</td>\n",
       "      <td>8</td>\n",
       "      <td>4</td>\n",
       "      <td>15</td>\n",
       "      <td>21</td>\n",
       "    </tr>\n",
       "    <tr>\n",
       "      <th>3</th>\n",
       "      <td>0</td>\n",
       "      <td>6</td>\n",
       "      <td>13</td>\n",
       "      <td>4</td>\n",
       "      <td>6</td>\n",
       "      <td>5</td>\n",
       "      <td>8</td>\n",
       "      <td>11</td>\n",
       "      <td>13</td>\n",
       "    </tr>\n",
       "    <tr>\n",
       "      <th>4</th>\n",
       "      <td>1</td>\n",
       "      <td>17</td>\n",
       "      <td>12</td>\n",
       "      <td>8</td>\n",
       "      <td>6</td>\n",
       "      <td>6</td>\n",
       "      <td>4</td>\n",
       "      <td>21</td>\n",
       "      <td>20</td>\n",
       "    </tr>\n",
       "  </tbody>\n",
       "</table>\n",
       "</div>"
      ],
      "text/plain": [
       "   FTR  HS  AS  HST  AST  HC  AC  HF  AF\n",
       "0    1  17   8   14    4   6   6  13  12\n",
       "1    1  17  12   10    5   7   7  19  14\n",
       "2   -1   6  16    3    9   8   4  15  21\n",
       "3    0   6  13    4    6   5   8  11  13\n",
       "4    1  17  12    8    6   6   4  21  20"
      ]
     },
     "execution_count": 6,
     "metadata": {},
     "output_type": "execute_result"
    }
   ],
   "source": [
    "df[\"FTR\"] = df.apply(lambda row: transformResult(row),axis=1)\n",
    "df.head()"
   ]
  },
  {
   "cell_type": "code",
   "execution_count": 7,
   "metadata": {},
   "outputs": [
    {
     "name": "stdout",
     "output_type": "stream",
     "text": [
      "Total number of matches:  6840\n",
      "Number of features:  8 \n",
      "\n",
      "Number of matches won by home team:  3176\n",
      "Win rate of home team:  46.4327485380117 \n",
      "\n",
      "Number of matches drawn:  1751\n",
      "Draw rate of the total matches:  25.599415204678362 \n",
      "\n",
      "Number of matches won by away team:  1913\n",
      "Win rate of away team:  27.96783625730994\n"
     ]
    }
   ],
   "source": [
    "totalMatches = df.shape[0]\n",
    "totalFeatures = df.shape[1] - 1\n",
    "homeWins = len(df[df.FTR == 1])\n",
    "draw = len(df[df.FTR == 0])\n",
    "awayWins = len(df[df.FTR == -1])\n",
    "homeRate = (float(homeWins) / (totalMatches)) * 100\n",
    "drawRate = (float(draw) / (totalMatches)) * 100\n",
    "awayRate = (float(awayWins) / (totalMatches)) * 100\n",
    "\n",
    "\n",
    "print (\"Total number of matches: \", totalMatches)\n",
    "print (\"Number of features: \", totalFeatures,'\\n')\n",
    "print (\"Number of matches won by home team: \", homeWins)\n",
    "print (\"Win rate of home team: \", homeRate,'\\n')\n",
    "print (\"Number of matches drawn: \", draw)\n",
    "print (\"Draw rate of the total matches: \", drawRate,'\\n')\n",
    "print (\"Number of matches won by away team: \", awayWins)\n",
    "print (\"Win rate of away team: \", awayRate)"
   ]
  },
  {
   "cell_type": "code",
   "execution_count": 8,
   "metadata": {},
   "outputs": [],
   "source": [
    "X_all= df.drop(['FTR'],1)\n",
    "y_all= df['FTR']"
   ]
  },
  {
   "cell_type": "code",
   "execution_count": 9,
   "metadata": {},
   "outputs": [
    {
     "name": "stderr",
     "output_type": "stream",
     "text": [
      "C:\\ProgramData\\Anaconda3\\lib\\site-packages\\sklearn\\cross_validation.py:41: DeprecationWarning: This module was deprecated in version 0.18 in favor of the model_selection module into which all the refactored classes and functions are moved. Also note that the interface of the new CV iterators are different from that of this module. This module will be removed in 0.20.\n",
      "  \"This module will be removed in 0.20.\", DeprecationWarning)\n"
     ]
    }
   ],
   "source": [
    "from sklearn.cross_validation import train_test_split\n",
    "\n",
    "# Shuffle and split the dataset into training and testing set.\n",
    "X_train, X_test, y_train, y_test = train_test_split(X_all, y_all, \n",
    "                                                    test_size = 700,\n",
    "                                                    random_state = 13)\n"
   ]
  },
  {
   "cell_type": "code",
   "execution_count": 10,
   "metadata": {},
   "outputs": [],
   "source": [
    "from sklearn.preprocessing import StandardScaler\n"
   ]
  },
  {
   "cell_type": "code",
   "execution_count": 11,
   "metadata": {},
   "outputs": [
    {
     "data": {
      "text/plain": [
       "6140"
      ]
     },
     "execution_count": 11,
     "metadata": {},
     "output_type": "execute_result"
    }
   ],
   "source": [
    "X_train.shape[0]"
   ]
  },
  {
   "cell_type": "code",
   "execution_count": 12,
   "metadata": {},
   "outputs": [
    {
     "name": "stderr",
     "output_type": "stream",
     "text": [
      "C:\\ProgramData\\Anaconda3\\lib\\site-packages\\sklearn\\ensemble\\weight_boosting.py:29: DeprecationWarning: numpy.core.umath_tests is an internal NumPy module and should not be imported. It will be removed in a future NumPy release.\n",
      "  from numpy.core.umath_tests import inner1d\n"
     ]
    }
   ],
   "source": [
    "from sklearn.tree import DecisionTreeClassifier\n",
    "from sklearn.naive_bayes import GaussianNB\n",
    "from sklearn.neural_network import MLPClassifier\n",
    "from sklearn.neighbors import KNeighborsClassifier\n",
    "from sklearn.svm import LinearSVC\n",
    "from sklearn.ensemble import GradientBoostingClassifier"
   ]
  },
  {
   "cell_type": "code",
   "execution_count": 13,
   "metadata": {},
   "outputs": [],
   "source": [
    "clfDT = DecisionTreeClassifier(criterion='gini', splitter='best', min_samples_split=3)\n",
    "clfGNB = GaussianNB()\n",
    "clfMLP = MLPClassifier(activation='relu', solver='lbfgs', alpha= 10.0,\n",
    "                       hidden_layer_sizes=(35,), random_state=12)\n",
    "clfKNN = KNeighborsClassifier(n_neighbors=18, weights='distance', algorithm='brute')\n",
    "clfSVC = LinearSVC(random_state=100, max_iter=1000)\n",
    "clfGBC = GradientBoostingClassifier(loss='deviance', learning_rate=0.2, n_estimators=118)"
   ]
  },
  {
   "cell_type": "code",
   "execution_count": 66,
   "metadata": {},
   "outputs": [
    {
     "name": "stdout",
     "output_type": "stream",
     "text": [
      "Accuracy= 0.4257142857142857\n"
     ]
    },
    {
     "data": {
      "text/plain": [
       "array([[ 71,  68,  62],\n",
       "       [ 61,  44,  63],\n",
       "       [ 73,  75, 183]], dtype=int64)"
      ]
     },
     "execution_count": 66,
     "metadata": {},
     "output_type": "execute_result"
    }
   ],
   "source": [
    "predDT = clfDT.fit(X_train,y_train).predict(X_test)\n",
    "print(\"Accuracy=\",accuracy_score(predDT,y_test))\n",
    "matrixDT = confusion_matrix(y_test, predDT)\n",
    "matrixDT"
   ]
  },
  {
   "cell_type": "code",
   "execution_count": 15,
   "metadata": {},
   "outputs": [
    {
     "name": "stdout",
     "output_type": "stream",
     "text": [
      "Accuracy= 0.49142857142857144\n"
     ]
    },
    {
     "data": {
      "text/plain": [
       "array([[ 75,  12, 114],\n",
       "       [ 55,   9, 104],\n",
       "       [ 58,  13, 260]], dtype=int64)"
      ]
     },
     "execution_count": 15,
     "metadata": {},
     "output_type": "execute_result"
    }
   ],
   "source": [
    "predGNB = clfGNB.fit(X_train,y_train).predict(X_test)\n",
    "print(\"Accuracy=\",accuracy_score(predGNB,y_test))\n",
    "matrixGNB = confusion_matrix(y_test, predGNB)\n",
    "matrixGNB"
   ]
  },
  {
   "cell_type": "code",
   "execution_count": 16,
   "metadata": {},
   "outputs": [
    {
     "name": "stdout",
     "output_type": "stream",
     "text": [
      "Accuracy= 0.5485714285714286\n"
     ]
    },
    {
     "data": {
      "text/plain": [
       "array([[101,   9,  91],\n",
       "       [ 51,  11, 106],\n",
       "       [ 49,  10, 272]], dtype=int64)"
      ]
     },
     "execution_count": 16,
     "metadata": {},
     "output_type": "execute_result"
    }
   ],
   "source": [
    "predMLP = clfMLP.fit(X_train,y_train).predict(X_test)\n",
    "print(\"Accuracy=\",accuracy_score(predMLP,y_test))\n",
    "matrixMLP = confusion_matrix(y_test, predMLP)\n",
    "matrixMLP"
   ]
  },
  {
   "cell_type": "code",
   "execution_count": 17,
   "metadata": {},
   "outputs": [
    {
     "name": "stdout",
     "output_type": "stream",
     "text": [
      "Accuracy= 0.52\n"
     ]
    },
    {
     "data": {
      "text/plain": [
       "array([[ 85,  26,  90],\n",
       "       [ 44,  29,  95],\n",
       "       [ 45,  36, 250]], dtype=int64)"
      ]
     },
     "execution_count": 17,
     "metadata": {},
     "output_type": "execute_result"
    }
   ],
   "source": [
    "predKNN = clfKNN.fit(X_train,y_train).predict(X_test)\n",
    "print(\"Accuracy=\",accuracy_score(predKNN,y_test))\n",
    "matrixKNN = confusion_matrix(y_test, predKNN)\n",
    "matrixKNN"
   ]
  },
  {
   "cell_type": "code",
   "execution_count": 18,
   "metadata": {},
   "outputs": [
    {
     "name": "stdout",
     "output_type": "stream",
     "text": [
      "Accuracy= 0.24\n"
     ]
    },
    {
     "data": {
      "text/plain": [
       "array([[  0, 201,   0],\n",
       "       [  0, 168,   0],\n",
       "       [  0, 331,   0]], dtype=int64)"
      ]
     },
     "execution_count": 18,
     "metadata": {},
     "output_type": "execute_result"
    }
   ],
   "source": [
    "predSVC = clfSVC.fit(X_train,y_train).predict(X_test)\n",
    "print(\"Accuracy=\",accuracy_score(predSVC,y_test))\n",
    "matrixSVC = confusion_matrix(y_test, predSVC)\n",
    "matrixSVC"
   ]
  },
  {
   "cell_type": "code",
   "execution_count": 19,
   "metadata": {},
   "outputs": [
    {
     "name": "stdout",
     "output_type": "stream",
     "text": [
      "Accuracy= 0.5585714285714286\n"
     ]
    },
    {
     "data": {
      "text/plain": [
       "array([[102,   9,  90],\n",
       "       [ 41,  21, 106],\n",
       "       [ 48,  15, 268]], dtype=int64)"
      ]
     },
     "execution_count": 19,
     "metadata": {},
     "output_type": "execute_result"
    }
   ],
   "source": [
    "predGBC = clfGBC.fit(X_train,y_train).predict(X_test)\n",
    "print(\"Accuracy=\",accuracy_score(predGBC,y_test))\n",
    "matrixGBC = confusion_matrix(y_test, predGBC)\n",
    "matrixGBC"
   ]
  },
  {
   "cell_type": "code",
   "execution_count": 20,
   "metadata": {},
   "outputs": [],
   "source": [
    "df2 = pd.read_csv('FootballDataset.csv')\n",
    "ht=\"Chelsea\"\n",
    "at=\"Man United\""
   ]
  },
  {
   "cell_type": "code",
   "execution_count": 21,
   "metadata": {},
   "outputs": [
    {
     "data": {
      "text/plain": [
       "(342, 342)"
      ]
     },
     "execution_count": 21,
     "metadata": {},
     "output_type": "execute_result"
    }
   ],
   "source": [
    "homeData = df2[\"HomeTeam\"]\n",
    "homePlayed = 0\n",
    "for i in homeData:\n",
    "    if i == ht:\n",
    "        homePlayed= homePlayed + 1\n",
    "\n",
    "awayData = df2[\"AwayTeam\"]\n",
    "awayPlayed = 0\n",
    "for i in awayData:\n",
    "    if i == at:\n",
    "        awayPlayed= awayPlayed + 1\n",
    "\n",
    "homePlayed,awayPlayed"
   ]
  },
  {
   "cell_type": "code",
   "execution_count": 22,
   "metadata": {},
   "outputs": [],
   "source": [
    "HS= (df2[df2[\"HomeTeam\"] == ht].sum().HS)/homePlayed\n",
    "AS= (df2[df2[\"AwayTeam\"] == at].sum().AS)/awayPlayed\n",
    "HST= (df2[df2[\"HomeTeam\"] == ht].sum().HST)/homePlayed\n",
    "AST= (df2[df2[\"AwayTeam\"] == at].sum().AST)/awayPlayed\n",
    "HC= (df2[df2[\"HomeTeam\"] == ht].sum().HC)/homePlayed\n",
    "AC= (df2[df2[\"AwayTeam\"] == at].sum().AC)/awayPlayed\n",
    "HF= (df2[df2[\"HomeTeam\"] == ht].sum().HF)/homePlayed\n",
    "AF= (df2[df2[\"AwayTeam\"] == at].sum().AF)/awayPlayed"
   ]
  },
  {
   "cell_type": "code",
   "execution_count": 23,
   "metadata": {},
   "outputs": [
    {
     "data": {
      "text/plain": [
       "[[9.026315789473685,\n",
       "  6.12280701754386,\n",
       "  4.099415204678363,\n",
       "  11.400584795321638,\n",
       "  4.084795321637427,\n",
       "  2.1842105263157894,\n",
       "  3.0964912280701755,\n",
       "  1.3830409356725146]]"
      ]
     },
     "execution_count": 23,
     "metadata": {},
     "output_type": "execute_result"
    }
   ],
   "source": [
    "p= [[HS,AS,HST,AST,HC,AC,HF,AF]]\n",
    "p"
   ]
  },
  {
   "cell_type": "code",
   "execution_count": 24,
   "metadata": {},
   "outputs": [
    {
     "data": {
      "text/plain": [
       "array([-1], dtype=int64)"
      ]
     },
     "execution_count": 24,
     "metadata": {},
     "output_type": "execute_result"
    }
   ],
   "source": [
    "Result = clfDT.predict(p)\n",
    "Result"
   ]
  },
  {
   "cell_type": "code",
   "execution_count": 25,
   "metadata": {},
   "outputs": [],
   "source": [
    "import pickle\n",
    "filename = 'decisionTreeModel.sav'\n",
    "pickle.dump(clfDT, open(filename, 'wb'))"
   ]
  },
  {
   "cell_type": "code",
   "execution_count": null,
   "metadata": {},
   "outputs": [],
   "source": []
  },
  {
   "cell_type": "code",
   "execution_count": null,
   "metadata": {},
   "outputs": [],
   "source": []
  }
 ],
 "metadata": {
  "kernelspec": {
   "display_name": "Python 3",
   "language": "python",
   "name": "python3"
  },
  "language_info": {
   "codemirror_mode": {
    "name": "ipython",
    "version": 3
   },
   "file_extension": ".py",
   "mimetype": "text/x-python",
   "name": "python",
   "nbconvert_exporter": "python",
   "pygments_lexer": "ipython3",
   "version": "3.6.5"
  }
 },
 "nbformat": 4,
 "nbformat_minor": 2
}
