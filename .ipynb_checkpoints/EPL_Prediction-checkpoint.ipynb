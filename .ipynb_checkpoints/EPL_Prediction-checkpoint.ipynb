{
 "cells": [
  {
   "cell_type": "code",
   "execution_count": null,
   "metadata": {},
   "outputs": [],
   "source": [
    "import pandas as pd\n",
    "import numpy as np\n",
    "import sys\n",
    "import scipy.stats as scipy\n",
    "import matplotlib.pyplot as plt\n",
    "import requests #download from football data\n",
    "import io \n",
    "from __future__ import division\n",
    "import seaborn as sns\n",
    "%matplotlib inline"
   ]
  },
  {
   "cell_type": "markdown",
   "metadata": {},
   "source": [
    "### Load the data"
   ]
  },
  {
   "cell_type": "code",
   "execution_count": null,
   "metadata": {},
   "outputs": [],
   "source": []
  },
  {
   "cell_type": "code",
   "execution_count": null,
   "metadata": {},
   "outputs": [],
   "source": []
  },
  {
   "cell_type": "code",
   "execution_count": null,
   "metadata": {},
   "outputs": [],
   "source": [
    "df = pd.read_csv('final_dataset1.csv')\n"
   ]
  },
  {
   "cell_type": "code",
   "execution_count": null,
   "metadata": {},
   "outputs": [],
   "source": [
    "df.columns"
   ]
  },
  {
   "cell_type": "code",
   "execution_count": null,
   "metadata": {},
   "outputs": [],
   "source": [
    "df"
   ]
  },
  {
   "cell_type": "markdown",
   "metadata": {},
   "source": [
    "### Cleaning and subsetting required data\n",
    "\n",
    "Remove betting data as we don't need it for prediction. However, they could be good indicators of a team's current form - should try it out later."
   ]
  },
  {
   "cell_type": "code",
   "execution_count": null,
   "metadata": {},
   "outputs": [],
   "source": [
    "res_16 = df.ix[:,:23]\n",
    "res_16 = res_16.drop(['Div','Date'],axis=1)\n",
    "# res_14 = df_14.ix[:,:23]\n",
    "# res_14 = res_14.drop(['Div','Date'],axis=1)\n",
    "table_features = df.ix[:,:7]\n",
    "table_features = table_features.drop(['FTHG','FTAG','Div','Date'],axis=1)\n",
    "bet_16 = df.ix[:,23:]"
   ]
  },
  {
   "cell_type": "code",
   "execution_count": null,
   "metadata": {
    "scrolled": true
   },
   "outputs": [],
   "source": [
    "res_16.head()\n",
    "feature_table = df.ix[:,:23]"
   ]
  },
  {
   "cell_type": "code",
   "execution_count": null,
   "metadata": {},
   "outputs": [],
   "source": [
    "res_16.tail()"
   ]
  },
  {
   "cell_type": "code",
   "execution_count": null,
   "metadata": {},
   "outputs": [],
   "source": [
    "#Team, Home Goals Score, Away Goals Score, Attack Strength, Home Goals Conceded, Away Goals Conceded, Defensive Strength\n",
    "table_16 = pd.DataFrame(columns=('Team','HGS','AGS','HAS','AAS','HGC','AGC','HDS','ADS',))\n",
    "table_16 = table_16[:-10]"
   ]
  },
  {
   "cell_type": "code",
   "execution_count": null,
   "metadata": {},
   "outputs": [],
   "source": [
    "res_16 = res_16[:-10]\n",
    "res_16.shape[0]"
   ]
  },
  {
   "cell_type": "code",
   "execution_count": null,
   "metadata": {},
   "outputs": [],
   "source": [
    "avg_home_scored_16 = res_16.FTHG.sum()*1.0 / res_16.shape[0]\n",
    "avg_away_scored_16 = res_16.FTAG.sum()*1.0 / res_16.shape[0]\n",
    "avg_home_conceded_16 = avg_away_scored_16\n",
    "avg_away_conceded_16 = avg_home_scored_16\n",
    "print(\"Average number of goals at home\",avg_home_scored_16)\n",
    "print(\"Average number of goals away\", avg_away_scored_16)\n",
    "print(\"Average number of goals conceded at home\",avg_home_conceded_16)\n",
    "print(\"Average number of goals conceded away\",avg_away_conceded_16)"
   ]
  },
  {
   "cell_type": "code",
   "execution_count": null,
   "metadata": {},
   "outputs": [],
   "source": [
    "res_home = res_16.groupby('HomeTeam')\n",
    "res_away = res_16.groupby('AwayTeam')"
   ]
  },
  {
   "cell_type": "code",
   "execution_count": null,
   "metadata": {},
   "outputs": [],
   "source": [
    "list(res_home)[19]"
   ]
  },
  {
   "cell_type": "code",
   "execution_count": null,
   "metadata": {},
   "outputs": [],
   "source": [
    "table_16.Team = res_home.HomeTeam.unique().values\n",
    "table_16.HGS = res_home.FTHG.sum().values\n",
    "table_16.HGC = res_home.FTAG.sum().values\n",
    "table_16.AGS = res_away.FTAG.sum().values\n",
    "table_16.AGC = res_away.FTHG.sum().values\n",
    "table_16"
   ]
  },
  {
   "cell_type": "code",
   "execution_count": null,
   "metadata": {},
   "outputs": [],
   "source": [
    "#Assuming number of home games = number of away games\n",
    "num_games = res_16.shape[0]/20"
   ]
  },
  {
   "cell_type": "code",
   "execution_count": null,
   "metadata": {},
   "outputs": [],
   "source": [
    "table_16.HAS = (table_16.HGS / num_games) / avg_home_scored_16\n",
    "table_16.AAS = (table_16.AGS / num_games) / avg_away_scored_16\n",
    "table_16.HDS = (table_16.HGC / num_games) / avg_home_conceded_16\n",
    "table_16.ADS = (table_16.AGC / num_games) / avg_away_conceded_16\n",
    "table_16"
   ]
  },
  {
   "cell_type": "code",
   "execution_count": null,
   "metadata": {},
   "outputs": [],
   "source": [
    "has_plot = sns.barplot(table_16.Team,table_16.HAS)\n",
    "for item in has_plot.get_xticklabels():\n",
    "    item.set_rotation(90)"
   ]
  },
  {
   "cell_type": "code",
   "execution_count": null,
   "metadata": {},
   "outputs": [],
   "source": [
    "table_16[table_16.Team == \"Swansea\"]"
   ]
  },
  {
   "cell_type": "code",
   "execution_count": null,
   "metadata": {},
   "outputs": [],
   "source": [
    "''' feature_table contains all the fixtures in the current season.\n",
    "ftr = full time result\n",
    "hst = home shots on target\n",
    "ast = away shots on target\n",
    "'''\n",
    "\n",
    "feature_table = feature_table[['HomeTeam','AwayTeam','FTR','HST','AST']]\n",
    "f_HAS = []\n",
    "f_HDS = []\n",
    "f_AAS = []\n",
    "f_ADS = []\n",
    "for index,row in feature_table.iterrows():\n",
    "    f_HAS.append(table_16[table_16['Team'] == row['HomeTeam']]['HAS'].values[0])\n",
    "    f_HDS.append(table_16[table_16['Team'] == row['HomeTeam']]['HDS'].values[0])\n",
    "    f_AAS.append(table_16[table_16['Team'] == row['AwayTeam']]['AAS'].values[0])\n",
    "    f_ADS.append(table_16[table_16['Team'] == row['AwayTeam']]['ADS'].values[0])\n",
    "    \n",
    "feature_table['HAS'] = f_HAS\n",
    "feature_table['HDS'] = f_HDS\n",
    "feature_table['AAS'] = f_AAS\n",
    "feature_table['ADS'] = f_ADS"
   ]
  },
  {
   "cell_type": "code",
   "execution_count": null,
   "metadata": {},
   "outputs": [],
   "source": [
    "feature_table.head(20)"
   ]
  },
  {
   "cell_type": "code",
   "execution_count": null,
   "metadata": {},
   "outputs": [],
   "source": [
    "def transformResult(row):\n",
    "    '''Converts results (H,A or D) into numeric values'''\n",
    "    if(row.FTR == 'H'):\n",
    "        return 1\n",
    "    elif(row.FTR == 'A'):\n",
    "        return -1\n",
    "    else:\n",
    "        return 0"
   ]
  },
  {
   "cell_type": "code",
   "execution_count": null,
   "metadata": {},
   "outputs": [],
   "source": [
    "feature_table[\"Result\"] = feature_table.apply(lambda row: transformResult(row),axis=1)"
   ]
  },
  {
   "cell_type": "code",
   "execution_count": null,
   "metadata": {},
   "outputs": [],
   "source": [
    "feature_table = feature_table[:-10] #ONLY FOR WEEK 33. REMOVE FROM 34\n",
    "feature_table.tail(10)"
   ]
  },
  {
   "cell_type": "code",
   "execution_count": null,
   "metadata": {},
   "outputs": [],
   "source": [
    "X_train = feature_table[['HST','AST','HAS','HDS','AAS','ADS',]]\n",
    "y_train = feature_table['Result']"
   ]
  },
  {
   "cell_type": "code",
   "execution_count": null,
   "metadata": {},
   "outputs": [],
   "source": [
    "from sklearn.tree import DecisionTreeClassifier\n",
    "from sklearn.naive_bayes import MultinomialNB\n",
    "from xgboost import XGBClassifier\n",
    "from sklearn.metrics import accuracy_score\n",
    "from sklearn.model_selection import cross_val_score\n",
    "from sklearn.linear_model import LogisticRegression\n",
    "from sklearn.ensemble import RandomForestClassifier\n",
    "from sklearn.neighbors import KNeighborsClassifier\n",
    "from sklearn.ensemble import voting_classifier\n",
    "from sklearn.svm import LinearSVC"
   ]
  },
  {
   "cell_type": "code",
   "execution_count": null,
   "metadata": {},
   "outputs": [],
   "source": [
    "clf1 = RandomForestClassifier()\n",
    "clf2 = MultinomialNB()\n",
    "clf3 = XGBClassifier()\n",
    "clf4 = LinearSVC()"
   ]
  },
  {
   "cell_type": "code",
   "execution_count": null,
   "metadata": {},
   "outputs": [],
   "source": [
    "y_pred = clf4.fit(X_train,y_train).predict(X_train)\n",
    "accuracy_score(y_pred,y_train)\n",
    "scores = cross_val_score(clf1, X_train, y_train, cv=10)\n",
    "print(scores)\n",
    "print(scores.mean())"
   ]
  },
  {
   "cell_type": "code",
   "execution_count": null,
   "metadata": {},
   "outputs": [],
   "source": [
    "y_pred = clf1.fit(X_train,y_train).predict(X_train)\n",
    "accuracy_score(y_pred,y_train)\n",
    "scores = cross_val_score(clf1, X_train, y_train, cv=10)\n",
    "print(scores)\n",
    "print(scores.mean())"
   ]
  },
  {
   "cell_type": "code",
   "execution_count": null,
   "metadata": {},
   "outputs": [],
   "source": [
    "y_pred = clf2.fit(X_train,y_train).predict(X_train)\n",
    "accuracy_score(y_pred,y_train)\n",
    "scores = cross_val_score(clf2, X_train, y_train, cv=10)\n",
    "print(scores)\n",
    "print(scores.mean())"
   ]
  },
  {
   "cell_type": "code",
   "execution_count": null,
   "metadata": {},
   "outputs": [],
   "source": [
    "y_pred = clf3.fit(X_train, y_train).predict(X_train)\n",
    "accuracy_score(y_pred,y_train)\n",
    "scores = cross_val_score(clf3, X_train, y_train, cv=10)\n",
    "print(scores)\n",
    "print(scores.mean())"
   ]
  },
  {
   "cell_type": "markdown",
   "metadata": {},
   "source": [
    "## Adding Recent Performance"
   ]
  },
  {
   "cell_type": "code",
   "execution_count": null,
   "metadata": {},
   "outputs": [],
   "source": [
    "#What is this for?\n",
    "ht = res_16.loc[40].HomeTeam\n",
    "at = res_16.loc[40].AwayTeam"
   ]
  },
  {
   "cell_type": "code",
   "execution_count": null,
   "metadata": {},
   "outputs": [],
   "source": [
    "feat_table = res_16.sort_index(ascending=False)\n",
    "feat_table = feat_table[['HomeTeam','AwayTeam','FTR','FTHG','FTAG','HS','AS','HC','AC']]"
   ]
  },
  {
   "cell_type": "code",
   "execution_count": null,
   "metadata": {},
   "outputs": [],
   "source": [
    "# Adding next week fixtures\n",
    "new_fixtures = pd.DataFrame( [['Leicester','Man United','D',0,0,0,0,0,0],\n",
    "                             ['Burnley','Tottenham','D',0,0,0,0,0,0],\n",
    "                             ['Swansea','Crystal Palace','D',0,0,0,0,0,0],\n",
    "                             ['West Ham','Newcastle','D',0,0,0,0,0,0],\n",
    "                             ['Stoke','West Brom','D',0,0,0,0,0,0],\n",
    "                             ['Southampton','Huddersfield','D',0,0,0,0,0,0],\n",
    "                             ['Man City','Bournemouth','D',0,0,0,0,0,0],\n",
    "                             ['Brighton','Watford','D',0,0,0,0,0,0],\n",
    "                             ['Everton','Chelsea','D',0,0,0,0,0,0],\n",
    "                             ['Arsenal','Liverpool','D',0,0,0,0,0,0]],columns=feat_table.columns)"
   ]
  },
  {
   "cell_type": "code",
   "execution_count": null,
   "metadata": {},
   "outputs": [],
   "source": [
    "new_feat_table = new_fixtures.append(feat_table,ignore_index=True)\n",
    "new_feat_table = new_feat_table.sort_index(ascending=False)\n",
    "new_feat_table = new_feat_table.reset_index().drop(['index'], axis=1)\n",
    "new_feat_table = new_feat_table.sort_index(ascending=False)\n",
    "# feat_table = n\n",
    "feat_table = new_feat_table\n",
    "feat_table.shape"
   ]
  },
  {
   "cell_type": "code",
   "execution_count": null,
   "metadata": {},
   "outputs": [],
   "source": [
    "#Adding k recent performance measures\n",
    "feat_table[\"pastHS\"] = 0.0\n",
    "feat_table[\"pastHC\"] = 0.0\n",
    "feat_table[\"pastAS\"] = 0.0\n",
    "feat_table[\"pastAC\"] = 0.0\n",
    "feat_table[\"pastHG\"] = 0.0\n",
    "feat_table[\"pastAG\"] = 0.0"
   ]
  },
  {
   "cell_type": "code",
   "execution_count": null,
   "metadata": {},
   "outputs": [],
   "source": [
    "feat_table.head(12)\n"
   ]
  },
  {
   "cell_type": "code",
   "execution_count": null,
   "metadata": {},
   "outputs": [],
   "source": [
    "# for index,row in feat_table.iterrows():\n",
    "#     #print row['HomeTeam'], table_16[table_16['Team'] == row['HomeTeam']]['HAS'].values"
   ]
  },
  {
   "cell_type": "code",
   "execution_count": null,
   "metadata": {
    "scrolled": true
   },
   "outputs": [],
   "source": [
    "# Adding k recent performance metrics. Change value of k.\n",
    "k = 3\n",
    "for i in range(feat_table.shape[0]-1,-1,-1):\n",
    "    row = feat_table.loc[i]\n",
    "    ht = row.HomeTeam\n",
    "    at = row.AwayTeam\n",
    "    ht_stats = feat_table.loc[i-1:-1][(feat_table.HomeTeam == ht) | (feat_table.AwayTeam == ht)].head(k)\n",
    "    at_stats = feat_table.loc[i-1:-1][(feat_table.HomeTeam == at) | (feat_table.AwayTeam == at)].head(k)\n",
    "\n",
    "    feat_table.set_value(i, 'pastHC', (ht_stats[ht_stats[\"AwayTeam\"] == ht].sum().HC + ht_stats[ht_stats[\"HomeTeam\"] == ht].sum().HC)/k)\n",
    "    feat_table.set_value(i, 'pastAC', (at_stats[at_stats[\"AwayTeam\"] == at].sum().HC + at_stats[at_stats[\"HomeTeam\"] == at].sum().HC)/k)\n",
    "    feat_table.set_value(i, 'pastHS', (ht_stats[ht_stats[\"AwayTeam\"] == ht].sum().HS + ht_stats[ht_stats[\"HomeTeam\"] == ht].sum().AS)/k)\n",
    "    feat_table.set_value(i, 'pastAS', (at_stats[at_stats[\"AwayTeam\"] == at].sum().HS + at_stats[at_stats[\"HomeTeam\"] == at].sum().AS)/k)\n",
    "    feat_table.set_value(i, 'pastHG', (ht_stats[ht_stats[\"AwayTeam\"] == ht].sum().FTAG + ht_stats[ht_stats[\"HomeTeam\"] == ht].sum().FTHG)/k)\n",
    "    feat_table.set_value(i, 'pastAG', (at_stats[at_stats[\"AwayTeam\"] == at].sum().FTAG + at_stats[at_stats[\"HomeTeam\"] == at].sum().FTHG)/k)\n",
    "\n",
    "f_HAS = []\n",
    "f_HDS = []\n",
    "f_AAS = []\n",
    "f_ADS = []\n",
    "for index,row in feat_table.iterrows():\n",
    "    #print row\n",
    "    f_HAS.append(table_16[table_16['Team'] == row['HomeTeam']]['HAS'].values[0])\n",
    "    f_HDS.append(table_16[table_16['Team'] == row['HomeTeam']]['HDS'].values[0])\n",
    "    f_AAS.append(table_16[table_16['Team'] == row['HomeTeam']]['AAS'].values[0])\n",
    "    f_ADS.append(table_16[table_16['Team'] == row['HomeTeam']]['ADS'].values[0])\n",
    "    \n",
    "feat_table['HAS'] = f_HAS\n",
    "feat_table['HDS'] = f_HDS\n",
    "feat_table['AAS'] = f_AAS\n",
    "feat_table['ADS'] = f_ADS"
   ]
  },
  {
   "cell_type": "code",
   "execution_count": null,
   "metadata": {},
   "outputs": [],
   "source": [
    "test_table = feat_table.drop(['FTHG','FTAG','HS','AS','HC','AC'],axis=1)"
   ]
  },
  {
   "cell_type": "code",
   "execution_count": null,
   "metadata": {},
   "outputs": [],
   "source": [
    "test_table[\"Result\"] = test_table.apply(lambda row: transformResult(row),axis=1)\n",
    "test_table.sort_index(inplace=True)"
   ]
  },
  {
   "cell_type": "code",
   "execution_count": null,
   "metadata": {},
   "outputs": [],
   "source": [
    "# num_games decides the train-test split\n",
    "print(feat_table.shape)\n",
    "num_games = feat_table.shape[0]-10\n",
    "num_games"
   ]
  },
  {
   "cell_type": "code",
   "execution_count": null,
   "metadata": {},
   "outputs": [],
   "source": [
    "X_train = test_table[['pastHS','pastHC','pastAS','pastAC','pastHG','pastAG','HAS','HDS','AAS','ADS']].loc[0:num_games]\n",
    "y_train = test_table['Result'].loc[0:num_games]\n",
    "X_test = test_table[['pastHS','pastHC','pastAS','pastAC','pastHG','pastAG','HAS','HDS','AAS','ADS']].loc[num_games:]\n",
    "y_test = test_table['Result'].loc[num_games:]"
   ]
  },
  {
   "cell_type": "code",
   "execution_count": null,
   "metadata": {},
   "outputs": [],
   "source": [
    "### Try predictions here too."
   ]
  },
  {
   "cell_type": "markdown",
   "metadata": {
    "collapsed": true
   },
   "source": [
    "# Adding home advantage"
   ]
  },
  {
   "cell_type": "code",
   "execution_count": null,
   "metadata": {},
   "outputs": [],
   "source": [
    "test_table[\"pastCornerDiff\"] = (test_table[\"pastHC\"] - test_table[\"pastAC\"])/k\n",
    "test_table[\"pastGoalDiff\"] = (test_table[\"pastHG\"] - test_table[\"pastAG\"])/k\n",
    "test_table[\"pastShotsDiff\"] = (test_table[\"pastHS\"] - test_table[\"pastAG\"])/k"
   ]
  },
  {
   "cell_type": "code",
   "execution_count": null,
   "metadata": {},
   "outputs": [],
   "source": [
    "''' number of games to exclude in the training set for validation\n",
    "For example, if 240 games have been played, test_table has 250 fixtures - the last 10 being the ones that haven't\n",
    "been played. So, we set aside 20 fixtures from the training set containing 240 fixtures for validation.''' \n",
    "num_games = feat_table.shape[0]-10\n",
    "print(num_games)\n",
    "v_split = 15\n",
    "n_games = num_games - v_split"
   ]
  },
  {
   "cell_type": "code",
   "execution_count": null,
   "metadata": {},
   "outputs": [],
   "source": [
    "test_table = test_table.fillna(0)"
   ]
  },
  {
   "cell_type": "code",
   "execution_count": null,
   "metadata": {},
   "outputs": [],
   "source": [
    "test_table.head()"
   ]
  },
  {
   "cell_type": "code",
   "execution_count": null,
   "metadata": {},
   "outputs": [],
   "source": [
    "test_table.drop(['pastHC','pastAS','pastAC','pastHG','pastAG'],axis=1)\n",
    "X_train = test_table[['pastCornerDiff','pastGoalDiff','pastShotsDiff','HAS','HDS','AAS','ADS']].loc[0:n_games]\n",
    "y_train = test_table['Result'].loc[0:n_games]\n",
    "X_test = test_table[['pastCornerDiff','pastGoalDiff','pastShotsDiff','HAS','HDS','AAS','ADS']].loc[n_games:num_games-1]\n",
    "y_test = test_table['Result'].loc[n_games:num_games-1]\n",
    "X_predict = test_table[['pastCornerDiff','pastGoalDiff','pastShotsDiff','HAS','HDS','AAS','ADS']].loc[num_games:]"
   ]
  },
  {
   "cell_type": "code",
   "execution_count": null,
   "metadata": {},
   "outputs": [],
   "source": [
    "X_predict"
   ]
  },
  {
   "cell_type": "code",
   "execution_count": null,
   "metadata": {},
   "outputs": [],
   "source": [
    "# clf1.fit(X_train,y_train)\n",
    "# #clf2.fit(X_train,y_train)\n",
    "# clf3.fit(X_train,y_train)\n",
    "# clf4.fit(X_train,y_train)\n",
    "# clf5.fit(X_train,y_train)\n",
    "# clf6.fit(X_train,y_train)"
   ]
  },
  {
   "cell_type": "code",
   "execution_count": null,
   "metadata": {},
   "outputs": [],
   "source": [
    "#KNN\n",
    "plot_scores_knn = []\n",
    "for b in range(1,50):\n",
    "    clf_knn = KNeighborsClassifier(n_neighbors=b)\n",
    "    clf_knn.fit(X_train,y_train)\n",
    "    scores = accuracy_score(y_test,clf_knn.predict(X_test))\n",
    "    plot_scores_knn.append(scores)\n",
    "\n",
    "#XGBClassifier\n",
    "plot_scores_XGB = []\n",
    "for i in range(1,100):\n",
    "    clf_XGB = XGBClassifier(n_estimators=i,max_depth=100)\n",
    "    clf_XGB.fit(X_train, y_train)\n",
    "    scores = accuracy_score(y_test,clf_XGB.predict(X_test))\n",
    "    plot_scores_XGB.append(scores)\n",
    "    \n",
    "#Logistic Regression\n",
    "plot_scores_logreg= []\n",
    "cs = [0.01,0.02,0.1,0.5,1,3,4,5,10]\n",
    "for c in cs:\n",
    "    clf_logreg = LogisticRegression(C=c,solver='lbfgs',multi_class='ovr')\n",
    "    clf_logreg.fit(X_train, y_train)\n",
    "    scores = accuracy_score(y_test,clf_logreg.predict(X_test))\n",
    "    plot_scores_logreg.append(scores)\n"
   ]
  },
  {
   "cell_type": "code",
   "execution_count": null,
   "metadata": {},
   "outputs": [],
   "source": [
    "fig = plt.figure(figsize = (16,7))\n",
    "# plt.style.use('ggplot')\n",
    "\n",
    "ax1 = fig.add_subplot(1,3,1)\n",
    "ax1.plot(range(1,50),plot_scores_knn);\n",
    "ax1.set_title(\"KNN - Accuracy vs N\")\n",
    "ax1.set_xticks(range(1,50,5));\n",
    "\n",
    "ax2 = fig.add_subplot(1,3,2)\n",
    "ax2.plot(range(1,100),plot_scores_XGB);\n",
    "ax2.set_xticks(range(1,100,6));\n",
    "ax2.set_title(\"XGB - Accuracy vs n_estimators\")\n",
    "\n",
    "ax3 = fig.add_subplot(1,3,3)\n",
    "ax3.plot(range(1,10),plot_scores_logreg);\n",
    "ax3.set_xticks(range(1,10));\n",
    "ax3.set_title(\"Logistic Regression - Accuracy vs C\")\n",
    "\n",
    "fig.tight_layout()"
   ]
  },
  {
   "cell_type": "code",
   "execution_count": null,
   "metadata": {},
   "outputs": [],
   "source": [
    "max_knn_n = max(plot_scores_knn)\n",
    "max_knn_ind = plot_scores_knn.index(max_knn_n)\n",
    "\n",
    "max_XGB_e = max(plot_scores_XGB)\n",
    "max_XGB_ind = plot_scores_XGB.index(max_XGB_e) if plot_scores_XGB.index(max_XGB_e)!=0 else 1\n",
    "\n",
    "max_logreg_c = max(plot_scores_logreg)\n",
    "max_logreg_ind = plot_scores_logreg.index(max_logreg_c)\n",
    "\n",
    "print(max_knn_n, max_knn_ind)\n",
    "print(max_XGB_e, max_XGB_ind)\n",
    "print(max_logreg_c, max_logreg_ind)\n",
    "\n",
    "#max_knn_ind=15 \n",
    "#max_XGB_ind=40\n",
    "#max_logreg_ind=3\n",
    "\n"
   ]
  },
  {
   "cell_type": "code",
   "execution_count": null,
   "metadata": {},
   "outputs": [],
   "source": [
    "clf_knn = KNeighborsClassifier(n_neighbors=max_knn_ind).fit(X_train,y_train)\n",
    "clf_XGB = XGBClassifier(n_estimators=max_XGB_ind).fit(X_train,y_train)\n"
   ]
  },
  {
   "cell_type": "code",
   "execution_count": null,
   "metadata": {},
   "outputs": [],
   "source": [
    "y_pred_knn = clf_knn.predict(X_predict)\n",
    "y_pred_XGB = clf_XGB.predict(X_predict)\n"
   ]
  },
  {
   "cell_type": "code",
   "execution_count": null,
   "metadata": {},
   "outputs": [],
   "source": [
    "this_week = test_table[['HomeTeam','AwayTeam']].loc[num_games:]\n",
    "this_week['Result_knn']=y_pred_knn\n",
    "this_week['Result_XGB']=y_pred_XGB\n"
   ]
  },
  {
   "cell_type": "code",
   "execution_count": null,
   "metadata": {},
   "outputs": [],
   "source": [
    "this_week"
   ]
  },
  {
   "cell_type": "code",
   "execution_count": null,
   "metadata": {},
   "outputs": [],
   "source": [
    "def transformResultBack(row,col_name):\n",
    "    if(row[col_name] == 1):\n",
    "        return 'H'\n",
    "    elif(row[col_name] == -1):\n",
    "        return 'A'\n",
    "    else:\n",
    "        return 'D'"
   ]
  },
  {
   "cell_type": "code",
   "execution_count": null,
   "metadata": {},
   "outputs": [],
   "source": [
    "this_week[\"Res_knn\"] = this_week.apply(lambda row: transformResultBack(row,\"Result_knn\"),axis=1)\n",
    "this_week[\"Res_XGB\"] = this_week.apply(lambda row: transformResultBack(row,\"Result_XGB\"),axis=1)\n",
    "\n",
    "\n",
    "this_week.drop([\"Result_knn\", \"Result_XGB\"],axis=1,inplace=True)"
   ]
  },
  {
   "cell_type": "code",
   "execution_count": null,
   "metadata": {},
   "outputs": [],
   "source": [
    "print(max_knn_n, max_XGB_e, max_logreg_c)\n",
    "this_week"
   ]
  },
  {
   "cell_type": "code",
   "execution_count": null,
   "metadata": {},
   "outputs": [],
   "source": []
  }
 ],
 "metadata": {
  "kernelspec": {
   "display_name": "Python 3",
   "language": "python",
   "name": "python3"
  },
  "language_info": {
   "codemirror_mode": {
    "name": "ipython",
    "version": 3
   },
   "file_extension": ".py",
   "mimetype": "text/x-python",
   "name": "python",
   "nbconvert_exporter": "python",
   "pygments_lexer": "ipython3",
   "version": "3.6.5"
  }
 },
 "nbformat": 4,
 "nbformat_minor": 1
}
